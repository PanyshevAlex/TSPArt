{
 "cells": [
  {
   "cell_type": "markdown",
   "metadata": {},
   "source": [
    "[collab](https://colab.research.google.com/github/PanyshevAlex/TSPArt/blob/main/TSP_Art_v2.ipynb)"
   ]
  },
  {
   "cell_type": "code",
   "execution_count": null,
   "metadata": {},
   "outputs": [],
   "source": [
    "import cv2\n",
    "import glob\n",
    "import os\n",
    "import re\n",
    "import sys\n",
    "from svglib.svglib import svg2rlg\n",
    "from reportlab.graphics import renderPM\n",
    "from xml.dom import minidom"
   ]
  },
  {
   "cell_type": "code",
   "execution_count": null,
   "metadata": {},
   "outputs": [],
   "source": [
    "!git clone https://github.com/thegrandpoobah/voronoi"
   ]
  },
  {
   "cell_type": "code",
   "execution_count": null,
   "metadata": {},
   "outputs": [],
   "source": [
    "!make -C voronoi"
   ]
  },
  {
   "cell_type": "code",
   "execution_count": null,
   "metadata": {},
   "outputs": [],
   "source": [
    "!git clone https://github.com/PanyshevAlex/traveling-salesman"
   ]
  },
  {
   "cell_type": "code",
   "execution_count": null,
   "metadata": {},
   "outputs": [],
   "source": [
    "!make -C traveling-salesman"
   ]
  },
  {
   "cell_type": "code",
   "execution_count": null,
   "metadata": {},
   "outputs": [],
   "source": [
    "!git clone https://github.com/beckysag/traveling-salesman traveling_salesman_2"
   ]
  },
  {
   "cell_type": "code",
   "execution_count": null,
   "metadata": {},
   "outputs": [],
   "source": [
    "!make -C traveling_salesman_2"
   ]
  },
  {
   "cell_type": "code",
   "execution_count": null,
   "metadata": {},
   "outputs": [],
   "source": [
    "# Разбиваем видео на кадры\n",
    "def video_to_frames(path):\n",
    "    videoCapture = cv2.VideoCapture()\n",
    "    videoCapture.open(path)\n",
    "    fps = videoCapture.get(cv2.CAP_PROP_FPS) \n",
    "    frames = videoCapture.get(cv2.CAP_PROP_FRAME_COUNT)\n",
    "    print(\"fps=\", int(fps), \"frames=\", int(frames))\n",
    "    count = 0\n",
    "    for i in range(int(frames)-1):\n",
    "        ret, frame = videoCapture.read()\n",
    "        if type(frame) != type(None):\n",
    "            cv2.imwrite(\"source/frames/%d.png\"%(i), frame)\n",
    "            count += 1\n",
    "    return count\n",
    "\n",
    "# создание файла для tsp solver формата: index x_coord y_coord \n",
    "def create_tsp(path, dest):\n",
    "    doc = minidom.parse(path)\n",
    "    circe_x = [path.getAttribute('cx') for path\n",
    "                    in doc.getElementsByTagName('circle')]\n",
    "    circe_y = [path.getAttribute('cy') for path\n",
    "                    in doc.getElementsByTagName('circle')]\n",
    "    f = open(dest, \"w\")\n",
    "    for i in range(len(circe_x)):\n",
    "        f.write(str(i) + \" \" + str(int(float(circe_x[i]))) + \" \" + str(int(float(circe_y[i]))) + \"\\n\")\n",
    "\n",
    "# создание svg файла решения по точечному изображению и решению tsp\n",
    "def tsppng(frame, tappath, dest):\n",
    "    f = open(tappath)\n",
    "    tsppath = f.readlines()\n",
    "    ff = open(frame)\n",
    "    tspcoord = ff.readlines()\n",
    "    tspcoord = [x.split() for x in tspcoord]\n",
    "    svg_path = '''<path d=\"M{} {} '''.format(tspcoord[int(tsppath[1])][1], tspcoord[int(tsppath[1])][2])\n",
    "    print(svg_path)\n",
    "    for i in range(2, len(tsppath)):\n",
    "        svg_path += \"L {} {} \".format(tspcoord[int(tsppath[i])][1], tspcoord[int(tsppath[i])][2])\n",
    "    #svg_path += '''L {} {} '''.format(tspcoord[int(tsppath[1])][1], tspcoord[int(tsppath[1])][2])\n",
    "    svg_path += '''\" stroke=\"black\" stroke-width=\"3\" fill=\"none\"/> \\n </svg>'''\n",
    "    f = open(dest, \"a\")\n",
    "    f.write('''<?xml version=\"1.0\" ?>\n",
    "<!DOCTYPE svg PUBLIC \"-//W3C//DTD SVG 1.1//EN\" \"http://www.w3.org/Graphics/SVG/1.1/DTD/svg11.dtd\">\n",
    "<svg width=\"1080\" height=\"934\" version=\"1.1\" xmlns=\"http://www.w3.org/2000/svg\">\\n''')\n",
    "    f.write(svg_path)\n",
    "    f.close()\n",
    "    ff.close()\n",
    "\n"
   ]
  },
  {
   "cell_type": "code",
   "execution_count": null,
   "metadata": {},
   "outputs": [],
   "source": [
    "# Полная обработка видео\n",
    "def solve_video(path, N):\n",
    "    frames = video_to_frames(path) # разбиваем ка кадры\n",
    "    \n",
    "    comm = \"./voronoi/voronoi_stippler -I source/frames/{}.png -O source/tippled_frames/{}.svg -s {} -t 0.4 -z 0.5\" # команда для запуска voronoi-stippler\n",
    "    # для каждого кадра создаем точечное изображение\n",
    "    for i in range(frames):\n",
    "        os.system(comm.format(i,i, N))\n",
    "    \n",
    "    # конвертируем точечные изображения в png \n",
    "    for i in range(1,frames):\n",
    "        filename = \"source/tippled_frames/{}.svg\".format(i)\n",
    "        drawing = svg2rlg(filename)\n",
    "        renderPM.drawToFile(drawing, \"source/tippled_frames_png/{}.png\".format(i), fmt=\"PNG\")\n",
    "\n",
    "    # создаем промежуточное точечное видео \n",
    "    img_array = []\n",
    "\n",
    "    for i in range(frames):\n",
    "        filename = \"source/tippled_frames_png/{}.png\".format(i)\n",
    "        img = cv2.imread(filename)\n",
    "        if type(img) != type(None):\n",
    "            height, width, layers = img.shape\n",
    "            size = (width, height)\n",
    "            img_array.append(img)\n",
    "\n",
    "    video_out = cv2.VideoWriter('stippled.mp4', cv2.VideoWriter_fourcc(*'MP4V'), 24, size)\n",
    "\n",
    "    for i in range(len(img_array)):\n",
    "        video_out.write(img_array[i])\n",
    "    video_out.release()\n",
    "\n",
    "    # подготавливаем данные для tsp solver \n",
    "    for i in range(frames):\n",
    "        create_tsp(\"source/tippled_frames/{}.svg\".format(i), \"source/tsp_frames/{}.tsp\".format(i))\n",
    "    \n",
    "    # решаем tsp через nearest neighbour + 2-opt\n",
    "    os.system(\"./traveling-salesman/tsp source/tsp_frames/{}.tsp source/tsp_path/{}.tsp.tour\".format(0, 0))\n",
    "    for i in range(1, frames):\n",
    "        os.system(\"./traveling-salesman/tsp source/tsp_frames/{}.tsp source/tsp_path/{}.tsp.tour source/tsp_path/{}.tsp.tour source/tsp_frames/{}.tsp\".format(i, i, i-1, i-1))\n",
    "\n",
    "\n",
    "    # создаем svg решения\n",
    "    for i in range(frames):\n",
    "        tsppng(\"source/tsp_frames/{}.tsp\".format(i), \"source/tsp_path/{}.tsp.tour\".format(i), \"source/final_frames/{}.svg\".format(i))\n",
    "\n",
    "    # конвертируем svg в png\n",
    "    for i in range(frames):\n",
    "        filename = \"source/final_frames/{}.svg\".format(i)\n",
    "        drawing = svg2rlg(filename)\n",
    "        renderPM.drawToFile(drawing, \"source/final_frames_png/{}.png\".format(i), fmt=\"PNG\")\n",
    "\n",
    "    # собираем результат в видео\n",
    "    img_array = []\n",
    "\n",
    "    for i in range(1,frames):\n",
    "        filename = \"source/final_frames_png/{}.png\".format(i)\n",
    "        img = cv2.imread(filename)\n",
    "        if type(img) != type(None):\n",
    "            height, width, layers = img.shape\n",
    "            size = (width, height)\n",
    "            img_array.append(img)\n",
    "\n",
    "    video_out = cv2.VideoWriter('stippled_tspart.mp4', cv2.VideoWriter_fourcc(*'MP4V'), 24, size)\n",
    "\n",
    "    for i in range(len(img_array)):\n",
    "        video_out.write(img_array[i])\n",
    "    video_out.release()\n",
    "\n",
    "    \n",
    "    "
   ]
  },
  {
   "cell_type": "code",
   "execution_count": null,
   "metadata": {},
   "outputs": [],
   "source": [
    "solve_video(\"source/test1.mp4\", 1500)"
   ]
  },
  {
   "cell_type": "markdown",
   "metadata": {},
   "source": [
    "### Сравнение двух методов: nearest neighbour + 2-opt и  Christofides’ algorithm + 2-opt"
   ]
  },
  {
   "cell_type": "code",
   "execution_count": null,
   "metadata": {},
   "outputs": [],
   "source": [
    "import time\n",
    "from matplotlib import pyplot as plt\n",
    "import numpy as np"
   ]
  },
  {
   "cell_type": "code",
   "execution_count": null,
   "metadata": {},
   "outputs": [],
   "source": [
    "\n",
    "time_nearest = []\n",
    "time_christofides = []\n",
    "f = open(\"source/tsp_frames/0.tsp\")\n",
    "tsp_inpit = f.readlines()\n",
    "for i in range(30): \n",
    "        ff = open(\"source/tsp_frames/temp.tsp\", \"a\")\n",
    "        for j in range(50):\n",
    "            ff.write(tsp_inpit[50*i+j])\n",
    "        ff.close()\n",
    "        stime = time.time()\n",
    "        os.system(\"./traveling-salesman/tsp source/tsp_frames/temp.tsp source/tsp_path/firsttime.tsp.tour\")\n",
    "        etime = time.time()\n",
    "        time_nearest.append(etime-stime)\n",
    "\n",
    "        stime = time.time()\n",
    "        os.system(\"./traveling_salesman_2/tsp source/tsp_frames/temp.tsp\")\n",
    "        etime = time.time()\n",
    "        time_christofides.append(etime-stime)\n",
    "        print(time_nearest[i], time_christofides[i])"
   ]
  },
  {
   "cell_type": "code",
   "execution_count": null,
   "metadata": {},
   "outputs": [],
   "source": [
    "N = np.linspace(50, 1500, 30)\n",
    "plt.plot(N, time_nearest, label=\"nearest neighbour\")\n",
    "plt.plot(N, time_christofides, label=\"Christofides algorithm\")\n",
    "plt.xlabel(\"N\")\n",
    "plt.xlabel(\"Time\")\n",
    "plt.grid()\n",
    "plt.legend()\n",
    "plt.show()\n",
    "\n",
    "\n"
   ]
  },
  {
   "cell_type": "code",
   "execution_count": null,
   "metadata": {},
   "outputs": [],
   "source": [
    "os.system(\"./traveling-salesman/tsp source/tsp_frames/{}.tsp source/tsp_path/{}.tsp.tour source/tsp_path/{}.tsp.tour\".format(1, 1, 0))\n",
    "#os.system(\"./traveling-salesman/tsp source/tsp_frames/{}.tsp source/tsp_path/{}.tsp.tour\".format(1, 1))"
   ]
  },
  {
   "cell_type": "markdown",
   "metadata": {},
   "source": []
  },
  {
   "cell_type": "code",
   "execution_count": null,
   "metadata": {},
   "outputs": [],
   "source": [
    "tsppng(\"source/tsp_frames/{}.tsp\".format(1), \"source/tsp_path/{}.tsp.tour\".format(1), \"source/final_frames/{}.svg\".format(1))"
   ]
  },
  {
   "cell_type": "code",
   "execution_count": null,
   "metadata": {},
   "outputs": [],
   "source": [
    "!git clone https://github.com/ReScience-Archives/Rougier-2017"
   ]
  },
  {
   "cell_type": "code",
   "execution_count": null,
   "metadata": {},
   "outputs": [],
   "source": [
    "os.system(\"python3 Rougier-2017/code/stippler.py --n_iter 10 --n_point 1000 --display source/frames/0.png\")\n"
   ]
  },
  {
   "cell_type": "code",
   "execution_count": null,
   "metadata": {},
   "outputs": [],
   "source": [
    "%matplotlib inline\n",
    "from Rougier.code.stippler import initialization, normalize\n",
    "from Rougier.code.voronoi import centroids\n",
    "import tqdm\n",
    "import os.path\n",
    "import scipy.misc\n",
    "import scipy.ndimage\n",
    "import numpy as np\n",
    "import cv2\n",
    "import argparse\n",
    "import matplotlib.pyplot as plt\n",
    "from matplotlib.animation import FuncAnimation\n",
    "import time"
   ]
  },
  {
   "cell_type": "code",
   "execution_count": null,
   "metadata": {},
   "outputs": [],
   "source": [
    "def make_tsp_by_points(path, points):\n",
    "    f = open(path, \"w\")\n",
    "    points = sorted(points, key=lambda x: x[0]+x[1])\n",
    "    out = []\n",
    "    temp = np.copy(points)\n",
    "    out.append(temp[0])\n",
    "    temp = np.delete(temp, 0, 0)\n",
    "    current_num = len(temp) \n",
    "    closest_index = 0\n",
    "    while current_num != 0:\n",
    "        closest = 99999\n",
    "        for i in range(current_num):\n",
    "            current_dist = (temp[i][0]-out[-1][0])**2+(temp[i][1]-out[-1][1])**2\n",
    "            if current_dist < closest:\n",
    "                closest = current_dist\n",
    "                closest_index = i\n",
    "        closest_index = 0\n",
    "        out.append(temp[closest_index])\n",
    "        temp = np.delete(temp, closest_index, 0)\n",
    "        current_num -= 1\n",
    "\n",
    "\n",
    "    #points = sorted(points, key=lambda x: x[0]+x[1])\n",
    "    for i in range(len(out)):\n",
    "        f.write(\"{} {} {}\\n\".format(i, int(out[i][0]), int(out[i][1])))\n",
    "    "
   ]
  },
  {
   "cell_type": "code",
   "execution_count": null,
   "metadata": {},
   "outputs": [],
   "source": [
    "frames = video_to_frames(\"source/test5.mp4\")"
   ]
  },
  {
   "cell_type": "code",
   "execution_count": null,
   "metadata": {},
   "outputs": [],
   "source": [
    "n_point = 1500\n",
    "threshold = 255\n",
    "n_iter = 10\n",
    "figsize = 6\n",
    "pointsize = (1.0, 1.0)\n",
    "\n",
    "filename = \"source/frames/0.png\"\n",
    "density = cv2.imread(filename, cv2.IMREAD_GRAYSCALE)\n",
    "zoom = (n_point * 500) / (density.shape[0]*density.shape[1])\n",
    "zoom = int(round(np.sqrt(zoom)))\n",
    "density = scipy.ndimage.zoom(density, zoom, order=0)\n",
    "\n",
    "density = np.minimum(density, threshold)\n",
    "\n",
    "density = 1.0 - normalize(density)\n",
    "density = density[::-1, :]\n",
    "density_P = density.cumsum(axis=1)\n",
    "density_Q = density_P.cumsum(axis=1)\n",
    "\n",
    "dirname = os.path.dirname(filename)\n",
    "basename = (os.path.basename(filename).split('.'))[0]\n",
    "pdf_filename = os.path.join(dirname, basename + \"-stipple.pdf\")\n",
    "png_filename = os.path.join(dirname, basename + \"-stipple.png\")\n",
    "dat_filename = os.path.join(dirname, basename + \"-stipple.npy\")\n",
    "\n",
    "points = initialization(n_point, density)\n",
    "\n",
    "xmin, xmax = 0, density.shape[1]\n",
    "ymin, ymax = 0, density.shape[0]\n",
    "bbox = np.array([xmin, xmax, ymin, ymax])\n",
    "ratio = (xmax-xmin)/(ymax-ymin)\n",
    "\n",
    "for i in tqdm.trange(30):\n",
    "    regions, points = centroids(points, density, density_P, density_Q)\n",
    "\n",
    "fig = plt.figure(figsize=(figsize, figsize/ratio), facecolor=\"white\")\n",
    "\n",
    "ax = fig.add_axes([0, 0, 1, 1], frameon=False)\n",
    "ax.set_xlim([xmin, xmax])\n",
    "ax.set_xticks([])\n",
    "ax.set_ylim([ymin, ymax])\n",
    "ax.set_yticks([])\n",
    "scatter = ax.scatter(points[:, 0], points[:, 1], s=1, facecolor=\"k\", edgecolor=\"None\")\n",
    "Pi = points.astype(int)\n",
    "X = np.maximum(np.minimum(Pi[:, 0], density.shape[1]-1), 0)\n",
    "Y = np.maximum(np.minimum(Pi[:, 1], density.shape[0]-1), 0)\n",
    "sizes = (pointsize[0] + (pointsize[1]-pointsize[0])*density[Y, X])\n",
    "scatter.set_offsets(points)\n",
    "scatter.set_sizes(sizes)\n",
    "#np.save(dat_filename, points)\n",
    "#plt.savefig(pdf_filename)\n",
    "plt.savefig(png_filename)\n",
    "plt.close(fig)\n",
    "make_tsp_by_points(\"source/tsp_frames/0.tsp\", points)"
   ]
  },
  {
   "cell_type": "code",
   "execution_count": null,
   "metadata": {},
   "outputs": [],
   "source": [
    "def referring_stippler(filename, points):\n",
    "    density = cv2.imread(filename, cv2.IMREAD_GRAYSCALE)\n",
    "    zoom = (n_point * 500) / (density.shape[0]*density.shape[1])\n",
    "    zoom = int(round(np.sqrt(zoom)))\n",
    "    density = scipy.ndimage.zoom(density, zoom, order=0)\n",
    "\n",
    "    density = np.minimum(density, threshold)\n",
    "\n",
    "    density = 1.0 - normalize(density)\n",
    "    density = density[::-1, :]\n",
    "    density_P = density.cumsum(axis=1)\n",
    "    density_Q = density_P.cumsum(axis=1)\n",
    "\n",
    "    dirname = os.path.dirname(filename)\n",
    "    basename = (os.path.basename(filename).split('.'))[0]\n",
    "    #pdf_filename = os.path.join(dirname, basename + \"-stipple.pdf\")\n",
    "    png_filename = os.path.join(dirname, basename + \"-stipple.png\")\n",
    "    #dat_filename = os.path.join(dirname, basename + \"-stipple.npy\")\n",
    "\n",
    "    #points = initialization(n_point, density)\n",
    "\n",
    "    xmin, xmax = 0, density.shape[1]\n",
    "    ymin, ymax = 0, density.shape[0]\n",
    "    bbox = np.array([xmin, xmax, ymin, ymax])\n",
    "    ratio = (xmax-xmin)/(ymax-ymin)\n",
    "\n",
    "    for i in range(n_iter):\n",
    "        regions, points = centroids(points, density, density_P, density_Q)\n",
    "    fig = plt.figure(figsize=(figsize, figsize/ratio), facecolor=\"white\")\n",
    "    ax = fig.add_axes([0, 0, 1, 1], frameon=False)\n",
    "    ax.set_xlim([xmin, xmax])\n",
    "    ax.set_xticks([])\n",
    "    ax.set_ylim([ymin, ymax])\n",
    "    ax.set_yticks([])\n",
    "    scatter = ax.scatter(points[:, 0], points[:, 1], s=1, facecolor=\"k\", edgecolor=\"None\")\n",
    "    Pi = points.astype(int)\n",
    "    X = np.maximum(np.minimum(Pi[:, 0], density.shape[1]-1), 0)\n",
    "    Y = np.maximum(np.minimum(Pi[:, 1], density.shape[0]-1), 0)\n",
    "    sizes = (pointsize[0] + (pointsize[1]-pointsize[0])*density[Y, X])\n",
    "    scatter.set_offsets(points)\n",
    "    scatter.set_sizes(sizes)\n",
    "    #np.save(dat_filename, points)\n",
    "    #plt.savefig(pdf_filename)\n",
    "    plt.savefig(png_filename)\n",
    "    time.sleep(0.1)\n",
    "    plt.close(fig)\n",
    "    return points"
   ]
  },
  {
   "cell_type": "code",
   "execution_count": null,
   "metadata": {},
   "outputs": [],
   "source": [
    "for i in tqdm.trange(1, 149):\n",
    "    points = referring_stippler(\"source/frames/{}.png\".format(i), points)\n",
    "    make_tsp_by_points(\"source/tsp_frames/{}.tsp\".format(i), points)\n",
    "    "
   ]
  },
  {
   "cell_type": "code",
   "execution_count": null,
   "metadata": {},
   "outputs": [],
   "source": [
    "\n",
    "frames = 117\n",
    "os.system(\"./traveling-salesman/tsp source/tsp_frames/{}.tsp source/tsp_path/{}.tsp.tour\".format(0, 0))\n",
    "for i in range(1, frames):\n",
    "    os.system(\"./traveling-salesman/tsp source/tsp_frames/{}.tsp source/tsp_path/{}.tsp.tour source/tsp_path/{}.tsp.tour source/tsp_frames/{}.tsp\".format(i, i, i-1, i-1))\n",
    "\n",
    "\n",
    "# создаем svg решения\n",
    "for i in range(frames):\n",
    "    tsppng(\"source/tsp_frames/{}.tsp\".format(i), \"source/tsp_path/{}.tsp.tour\".format(i), \"source/final_frames/{}.svg\".format(i))\n",
    "\n",
    "# конвертируем svg в png\n",
    "for i in range(frames):\n",
    "    filename = \"source/final_frames/{}.svg\".format(i)\n",
    "    drawing = svg2rlg(filename)\n",
    "    renderPM.drawToFile(drawing, \"source/final_frames_png/{}.png\".format(i), fmt=\"PNG\")\n",
    "\n",
    "# собираем результат в видео\n",
    "img_array = []\n",
    "\n",
    "for i in range(frames):\n",
    "    filename = \"source/final_frames_png/{}.png\".format(i)\n",
    "    img = cv2.imread(filename)\n",
    "    if type(img) != type(None):\n",
    "        height, width, layers = img.shape\n",
    "        size = (width, height)\n",
    "        img_array.append(img)\n",
    "\n",
    "video_out = cv2.VideoWriter('stippled_tspart.mp4', cv2.VideoWriter_fourcc(*'MP4V'), 24, size)\n",
    "\n",
    "for i in range(len(img_array)):\n",
    "    video_out.write(img_array[i])\n",
    "video_out.release()"
   ]
  },
  {
   "cell_type": "code",
   "execution_count": null,
   "metadata": {},
   "outputs": [],
   "source": [
    "os.system(\"./traveling-salesman/tsp source/tsp_frames/{}.tsp source/tsp_path/{}.tsp.tour source/tsp_path/{}.tsp.tour source/tsp_frames/{}.tsp\".format(1, 1, 0, 0))"
   ]
  },
  {
   "cell_type": "code",
   "execution_count": null,
   "metadata": {},
   "outputs": [],
   "source": [
    "tsppng(\"source/tsp_frames/{}.tsp\".format(1), \"source/tsp_path/{}.tsp.tour\".format(1), \"source/tsp_path/{}.svg\".format(1))"
   ]
  },
  {
   "cell_type": "code",
   "execution_count": null,
   "metadata": {},
   "outputs": [],
   "source": [
    "!make -C traveling-salesman"
   ]
  },
  {
   "cell_type": "code",
   "execution_count": null,
   "metadata": {},
   "outputs": [],
   "source": [
    "frames = 138\n",
    "os.system(\"./traveling-salesman/tsp source/tsp_frames/{}.tsp source/tsp_path/{}.tsp.tour\".format(0, 0))\n",
    "for i in range(1, frames):\n",
    "    os.system(\"./traveling-salesman/tsp source/tsp_frames/{}.tsp source/tsp_path/{}.tsp.tour source/tsp_path/{}.tsp.tour source/tsp_frames/{}.tsp\".format(i, i, i-1, i-1))\n",
    "\n",
    "\n",
    "    # создаем svg решения\n",
    "for i in range(frames):\n",
    "    tsppng(\"source/tsp_frames/{}.tsp\".format(i), \"source/tsp_path/{}.tsp.tour\".format(i), \"source/final_frames/{}.svg\".format(i))\n",
    "\n",
    "    # конвертируем svg в png\n",
    "for i in range(frames):\n",
    "    filename = \"source/final_frames/{}.svg\".format(i)\n",
    "    drawing = svg2rlg(filename)\n",
    "    renderPM.drawToFile(drawing, \"source/final_frames_png/{}.png\".format(i), fmt=\"PNG\")\n",
    "\n",
    "    # собираем результат в видео\n",
    "img_array = []\n",
    "\n",
    "for i in range(1,frames):\n",
    "    filename = \"source/final_frames_png/{}.png\".format(i)\n",
    "    img = cv2.imread(filename)\n",
    "    if type(img) != type(None):\n",
    "        height, width, layers = img.shape\n",
    "        size = (width, height)\n",
    "        img_array.append(img)\n",
    "\n",
    "video_out = cv2.VideoWriter('stippled_tspart.mp4', cv2.VideoWriter_fourcc(*'MP4V'), 24, size)\n",
    "\n",
    "for i in range(len(img_array)):\n",
    "    video_out.write(img_array[i])\n",
    "video_out.release()"
   ]
  },
  {
   "cell_type": "code",
   "execution_count": null,
   "metadata": {},
   "outputs": [],
   "source": [
    "import time\n",
    "\n",
    "t1 = []\n",
    "stime = time.time()\n",
    "os.system(\"./traveling-salesman/tsp source/tsp_frames/{}.tsp source/tsp_path/{}.tsp.tour\".format(0, 0))\n",
    "etime = time.time()\n",
    "t1.append(etime - stime)\n",
    "for i in range(1, 149):\n",
    "    os.system(\"./traveling-salesman/tsp source/tsp_frames/{}.tsp source/tsp_path/{}.tsp.tour source/tsp_path/{}.tsp.tour source/tsp_frames/{}.tsp\".format(i, i, i-1, i-1))\n",
    "    etime = time.time()\n",
    "    t1.append(etime - stime)\n",
    "\n",
    "t2 = []\n",
    "stime = time.time()\n",
    "for i in range(149):\n",
    "    os.system(\"./traveling-salesman/tsp source/tsp_frames/{}.tsp source/tsp_path/{}.tsp.tour\".format(i, i))\n",
    "    etime = time.time()\n",
    "    t1.append(etime - stime)\n",
    "print(t1)\n",
    "print(t2)"
   ]
  },
  {
   "cell_type": "code",
   "execution_count": null,
   "metadata": {},
   "outputs": [],
   "source": [
    "N = np.linspace(0, 148, 149)\n",
    "print(len(N))\n",
    "print(len(t1[:149]))\n",
    "print(len(t1[149:298]))\n",
    "plt.plot(N, t1[:149], label=\"Using the previous frame\")\n",
    "plt.plot(N, t1[149:298], label=\"Without using the previous frame\")\n",
    "plt.xlabel(\"Number of frames\")\n",
    "plt.ylabel(\"Time\")\n",
    "\n",
    "plt.grid()\n",
    "plt.legend()\n",
    "plt.show()\n"
   ]
  },
  {
   "cell_type": "markdown",
   "metadata": {},
   "source": []
  }
 ],
 "metadata": {
  "interpreter": {
   "hash": "31f2aee4e71d21fbe5cf8b01ff0e069b9275f58929596ceb00d14d90e3e16cd6"
  },
  "kernelspec": {
   "display_name": "Python 3.8.2 64-bit",
   "language": "python",
   "name": "python3"
  },
  "language_info": {
   "codemirror_mode": {
    "name": "ipython",
    "version": 3
   },
   "file_extension": ".py",
   "mimetype": "text/x-python",
   "name": "python",
   "nbconvert_exporter": "python",
   "pygments_lexer": "ipython3",
   "version": "3.7.2"
  },
  "orig_nbformat": 4
 },
 "nbformat": 4,
 "nbformat_minor": 2
}
